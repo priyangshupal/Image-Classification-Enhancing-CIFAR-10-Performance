{
 "cells": [
  {
   "cell_type": "code",
   "execution_count": 1,
   "metadata": {
    "id": "OSFzR7_w6vpk"
   },
   "outputs": [],
   "source": [
    "# Importing necessary libraries\n",
    "\n",
    "import torch\n",
    "import torch.nn as nn\n",
    "import torch.optim as optim\n",
    "import torchvision\n",
    "import torchvision.transforms as transforms\n",
    "from torch.utils.data import DataLoader\n",
    "from torchvision.datasets import CIFAR10\n",
    "from torchsummary import summary\n",
    "import numpy as np\n",
    "import matplotlib.pyplot as plt"
   ]
  },
  {
   "cell_type": "markdown",
   "metadata": {},
   "source": [
    "# Device Information"
   ]
  },
  {
   "cell_type": "code",
   "execution_count": 2,
   "metadata": {
    "colab": {
     "base_uri": "https://localhost:8080/"
    },
    "id": "EHPC7PwF68uK",
    "outputId": "5809db74-05f3-4de0-d465-4098ec4e228e"
   },
   "outputs": [
    {
     "name": "stdout",
     "output_type": "stream",
     "text": [
      "Using device: cuda\n"
     ]
    }
   ],
   "source": [
    "# Setting up the device\n",
    "\n",
    "# device = \"mps\" if torch.backends.mps.is_available() else \"cpu\" # Metal Performance Shaders Apple's M1/M2/M3 Chips\n",
    "device = torch.device(\"cuda\" if torch.cuda.is_available() else \"cpu\") # If CUDA supported GPU available\n",
    "# device = \"cpu\" # CPU of the device\n",
    "\n",
    "print(f\"Using device: {device}\")"
   ]
  },
  {
   "cell_type": "markdown",
   "metadata": {},
   "source": [
    "# Data Augmentation Transformations"
   ]
  },
  {
   "cell_type": "code",
   "execution_count": 3,
   "metadata": {
    "id": "GmIEktwR7AwO"
   },
   "outputs": [],
   "source": [
    "# Define data augmentation transformations\n",
    "transform_train = transforms.Compose([\n",
    "    transforms.RandomCrop(32, padding=4),\n",
    "    transforms.RandomHorizontalFlip(),\n",
    "    transforms.ColorJitter(brightness=0.2, contrast=0.2, saturation=0.2, hue=0.1),\n",
    "    transforms.RandomRotation(degrees=15),\n",
    "    transforms.RandomAffine(degrees=0, translate=(0.1, 0.1)),\n",
    "    transforms.ToTensor(),\n",
    "    transforms.Normalize((0.5, 0.5, 0.5), (0.5, 0.5, 0.5)),\n",
    "])\n",
    "\n",
    "transform_test = transforms.Compose([\n",
    "    transforms.ToTensor(),\n",
    "    transforms.Normalize((0.5, 0.5, 0.5), (0.5, 0.5, 0.5)),\n",
    "])"
   ]
  },
  {
   "cell_type": "markdown",
   "metadata": {},
   "source": [
    "# CIFAR-10 Dataset"
   ]
  },
  {
   "cell_type": "code",
   "execution_count": 4,
   "metadata": {
    "colab": {
     "base_uri": "https://localhost:8080/"
    },
    "id": "ld9sjBQk7DGw",
    "outputId": "444abbc1-7b1e-4ff5-862c-eb03ee2768fd"
   },
   "outputs": [
    {
     "name": "stdout",
     "output_type": "stream",
     "text": [
      "Downloading https://www.cs.toronto.edu/~kriz/cifar-10-python.tar.gz to ./data/cifar-10-python.tar.gz\n"
     ]
    },
    {
     "name": "stderr",
     "output_type": "stream",
     "text": [
      "100%|██████████| 170498071/170498071 [00:01<00:00, 93403037.40it/s] \n"
     ]
    },
    {
     "name": "stdout",
     "output_type": "stream",
     "text": [
      "Extracting ./data/cifar-10-python.tar.gz to ./data\n",
      "Files already downloaded and verified\n"
     ]
    }
   ],
   "source": [
    "# Load CIFAR-10 dataset\n",
    "trainset = CIFAR10(root='./data', train=True, download=True, transform=transform_train)\n",
    "trainloader = DataLoader(trainset, batch_size=128, shuffle=True, num_workers=2)\n",
    "\n",
    "testset = CIFAR10(root='./data', train=False, download=True, transform=transform_test)\n",
    "testloader = DataLoader(testset, batch_size=100, shuffle=False, num_workers=2)"
   ]
  },
  {
   "cell_type": "markdown",
   "metadata": {},
   "source": [
    "# Model Architecture\n",
    "Residual Block, Modified ResNet Architecture"
   ]
  },
  {
   "cell_type": "code",
   "execution_count": 5,
   "metadata": {
    "id": "izgI8C057I8M"
   },
   "outputs": [],
   "source": [
    "# Define residual block\n",
    "class BasicBlock(nn.Module):\n",
    "    expansion = 1\n",
    "\n",
    "    def __init__(self, in_planes, planes, stride=1):\n",
    "        super(BasicBlock, self).__init__()\n",
    "        self.conv1 = nn.Conv2d(in_planes, planes, kernel_size=3, stride=stride, padding=1, bias=False)\n",
    "        self.bn1 = nn.BatchNorm2d(planes)\n",
    "        self.conv2 = nn.Conv2d(planes, planes, kernel_size=3, stride=1, padding=1, bias=False)\n",
    "        self.bn2 = nn.BatchNorm2d(planes)\n",
    "\n",
    "        self.shortcut = nn.Sequential()\n",
    "        if stride != 1 or in_planes != self.expansion*planes:\n",
    "            self.shortcut = nn.Sequential(\n",
    "                nn.Conv2d(in_planes, self.expansion*planes, kernel_size=1, stride=stride, bias=False),\n",
    "                nn.BatchNorm2d(self.expansion*planes)\n",
    "            )\n",
    "\n",
    "    def forward(self, x):\n",
    "        out = self.conv1(x)\n",
    "        out = self.bn1(out)\n",
    "        out = torch.relu(out)\n",
    "        out = self.conv2(out)\n",
    "        out = self.bn2(out)\n",
    "        out += self.shortcut(x)\n",
    "        out = torch.relu(out)\n",
    "        return out"
   ]
  },
  {
   "cell_type": "code",
   "execution_count": 6,
   "metadata": {
    "id": "iT5icmCY7OvT"
   },
   "outputs": [],
   "source": [
    "# Modified ResNet model\n",
    "class ModifiedResNet(nn.Module):\n",
    "    def __init__(self, block, num_blocks, num_classes=10):\n",
    "        super(ModifiedResNet, self).__init__()\n",
    "        self.in_planes = 32  # Reduced number of initial channels\n",
    "\n",
    "        self.conv1 = nn.Conv2d(3, 32, kernel_size=3, stride=1, padding=1, bias=False)  # Reduced initial channels\n",
    "        self.bn1 = nn.BatchNorm2d(32)\n",
    "        self.layer1 = self._make_layer(block, 32, num_blocks[0], stride=1)\n",
    "        self.layer2 = self._make_layer(block, 64, num_blocks[1], stride=2)  # Reduced channels\n",
    "        self.layer3 = self._make_layer(block, 128, num_blocks[2], stride=2)  # Reduced channels\n",
    "        self.layer4 = self._make_layer(block, 256, num_blocks[3], stride=2)  # Reduced channels\n",
    "        self.linear = nn.Linear(256*block.expansion, num_classes)\n",
    "\n",
    "    def _make_layer(self, block, planes, num_blocks, stride):\n",
    "        strides = [stride] + [1]*(num_blocks-1)\n",
    "        layers = []\n",
    "        for stride in strides:\n",
    "            layers.append(block(self.in_planes, planes, stride))\n",
    "            self.in_planes = planes * block.expansion\n",
    "        return nn.Sequential(*layers)\n",
    "\n",
    "    def forward(self, x):\n",
    "        out = self.conv1(x)\n",
    "        out = self.bn1(out)\n",
    "        out = torch.relu(out)\n",
    "        out = self.layer1(out)\n",
    "        out = self.layer2(out)\n",
    "        out = self.layer3(out)\n",
    "        out = self.layer4(out)\n",
    "        out = nn.functional.avg_pool2d(out, 4)\n",
    "        out = out.view(out.size(0), -1)\n",
    "        out = self.linear(out)\n",
    "        return out"
   ]
  },
  {
   "cell_type": "code",
   "execution_count": 7,
   "metadata": {
    "id": "4qoLebn57SwU"
   },
   "outputs": [],
   "source": [
    "# Define ResNet\n",
    "def ResNet():\n",
    "    return ModifiedResNet(BasicBlock, [2,2,2,2])"
   ]
  },
  {
   "cell_type": "code",
   "execution_count": 8,
   "metadata": {
    "id": "L-4AS8107VYT"
   },
   "outputs": [],
   "source": [
    "# Function to count the number of trainable parameters in the model\n",
    "def count_parameters(model):\n",
    "    return sum(p.numel() for p in model.parameters() if p.requires_grad)"
   ]
  },
  {
   "cell_type": "code",
   "execution_count": 9,
   "metadata": {
    "id": "63wFI6Cb7Xdm"
   },
   "outputs": [],
   "source": [
    "# Define training function with evaluation and plotting\n",
    "def train_model(model, criterion, optimizer, scheduler, num_epochs=10):\n",
    "    train_losses = []\n",
    "    test_losses = []\n",
    "    train_accs = []\n",
    "    test_accs = []\n",
    "\n",
    "    model.to(device)  # Move model to the same device as data\n",
    "\n",
    "    for epoch in range(num_epochs):\n",
    "        model.train()\n",
    "        running_loss = 0.0\n",
    "        correct = 0\n",
    "        total = 0\n",
    "        for i, data in enumerate(trainloader, 0):\n",
    "            inputs, labels = data[0].to(device), data[1].to(device)\n",
    "            optimizer.zero_grad()\n",
    "\n",
    "            outputs = model(inputs)\n",
    "            loss = criterion(outputs, labels)\n",
    "            loss.backward()\n",
    "            optimizer.step()\n",
    "\n",
    "            running_loss += loss.item()\n",
    "            _, predicted = outputs.max(1)\n",
    "            total += labels.size(0)\n",
    "            correct += predicted.eq(labels).sum().item()\n",
    "\n",
    "        train_loss = running_loss / len(trainloader)\n",
    "        train_acc = correct / total\n",
    "        train_losses.append(train_loss)\n",
    "        train_accs.append(train_acc)\n",
    "\n",
    "        model.eval()\n",
    "        correct = 0\n",
    "        total = 0\n",
    "        test_loss = 0.0\n",
    "        with torch.no_grad():\n",
    "            for data in testloader:\n",
    "                inputs, labels = data[0].to(device), data[1].to(device)\n",
    "                outputs = model(inputs)\n",
    "                loss = criterion(outputs, labels)\n",
    "                test_loss += loss.item()\n",
    "                _, predicted = outputs.max(1)\n",
    "                total += labels.size(0)\n",
    "                correct += predicted.eq(labels).sum().item()\n",
    "\n",
    "        test_loss /= len(testloader)\n",
    "        test_acc = correct / total\n",
    "        test_losses.append(test_loss)\n",
    "        test_accs.append(test_acc)\n",
    "\n",
    "        print(f'Epoch [{epoch+1}/{num_epochs}], Train Loss: {train_loss:.4f}, Train Acc: {train_acc:.4f}, Test Loss: {test_loss:.4f}, Test Acc: {test_acc:.4f}')\n",
    "        scheduler.step(test_loss)  # Update learning rate scheduler based on test loss\n",
    "\n",
    "    # Plotting loss curves\n",
    "    plt.figure(figsize=(10, 5))\n",
    "    plt.plot(train_losses, label='Train Loss')\n",
    "    plt.plot(test_losses, label='Test Loss')\n",
    "    plt.xlabel('Epoch')\n",
    "    plt.ylabel('Loss')\n",
    "    plt.title('Training and Testing Loss Curves')\n",
    "    plt.legend()\n",
    "    plt.show()\n",
    "\n",
    "    # Plotting accuracy curves\n",
    "    plt.figure(figsize=(10, 5))\n",
    "    plt.plot(train_accs, label='Train Accuracy')\n",
    "    plt.plot(test_accs, label='Test Accuracy')\n",
    "    plt.xlabel('Epoch')\n",
    "    plt.ylabel('Accuracy')\n",
    "    plt.title('Training and Testing Accuracy Curves')\n",
    "    plt.legend()\n",
    "    plt.show()\n",
    "\n",
    "    # Final evaluation\n",
    "    print('Final Test Accuracy: {:.4f}'.format(test_acc))"
   ]
  },
  {
   "cell_type": "code",
   "execution_count": 10,
   "metadata": {
    "colab": {
     "base_uri": "https://localhost:8080/"
    },
    "id": "wRmjXgAw7adS",
    "outputId": "22e76efb-e380-4eb7-89c7-a51c6a7b832c"
   },
   "outputs": [
    {
     "data": {
      "text/plain": [
       "ModifiedResNet(\n",
       "  (conv1): Conv2d(3, 32, kernel_size=(3, 3), stride=(1, 1), padding=(1, 1), bias=False)\n",
       "  (bn1): BatchNorm2d(32, eps=1e-05, momentum=0.1, affine=True, track_running_stats=True)\n",
       "  (layer1): Sequential(\n",
       "    (0): BasicBlock(\n",
       "      (conv1): Conv2d(32, 32, kernel_size=(3, 3), stride=(1, 1), padding=(1, 1), bias=False)\n",
       "      (bn1): BatchNorm2d(32, eps=1e-05, momentum=0.1, affine=True, track_running_stats=True)\n",
       "      (conv2): Conv2d(32, 32, kernel_size=(3, 3), stride=(1, 1), padding=(1, 1), bias=False)\n",
       "      (bn2): BatchNorm2d(32, eps=1e-05, momentum=0.1, affine=True, track_running_stats=True)\n",
       "      (shortcut): Sequential()\n",
       "    )\n",
       "    (1): BasicBlock(\n",
       "      (conv1): Conv2d(32, 32, kernel_size=(3, 3), stride=(1, 1), padding=(1, 1), bias=False)\n",
       "      (bn1): BatchNorm2d(32, eps=1e-05, momentum=0.1, affine=True, track_running_stats=True)\n",
       "      (conv2): Conv2d(32, 32, kernel_size=(3, 3), stride=(1, 1), padding=(1, 1), bias=False)\n",
       "      (bn2): BatchNorm2d(32, eps=1e-05, momentum=0.1, affine=True, track_running_stats=True)\n",
       "      (shortcut): Sequential()\n",
       "    )\n",
       "  )\n",
       "  (layer2): Sequential(\n",
       "    (0): BasicBlock(\n",
       "      (conv1): Conv2d(32, 64, kernel_size=(3, 3), stride=(2, 2), padding=(1, 1), bias=False)\n",
       "      (bn1): BatchNorm2d(64, eps=1e-05, momentum=0.1, affine=True, track_running_stats=True)\n",
       "      (conv2): Conv2d(64, 64, kernel_size=(3, 3), stride=(1, 1), padding=(1, 1), bias=False)\n",
       "      (bn2): BatchNorm2d(64, eps=1e-05, momentum=0.1, affine=True, track_running_stats=True)\n",
       "      (shortcut): Sequential(\n",
       "        (0): Conv2d(32, 64, kernel_size=(1, 1), stride=(2, 2), bias=False)\n",
       "        (1): BatchNorm2d(64, eps=1e-05, momentum=0.1, affine=True, track_running_stats=True)\n",
       "      )\n",
       "    )\n",
       "    (1): BasicBlock(\n",
       "      (conv1): Conv2d(64, 64, kernel_size=(3, 3), stride=(1, 1), padding=(1, 1), bias=False)\n",
       "      (bn1): BatchNorm2d(64, eps=1e-05, momentum=0.1, affine=True, track_running_stats=True)\n",
       "      (conv2): Conv2d(64, 64, kernel_size=(3, 3), stride=(1, 1), padding=(1, 1), bias=False)\n",
       "      (bn2): BatchNorm2d(64, eps=1e-05, momentum=0.1, affine=True, track_running_stats=True)\n",
       "      (shortcut): Sequential()\n",
       "    )\n",
       "  )\n",
       "  (layer3): Sequential(\n",
       "    (0): BasicBlock(\n",
       "      (conv1): Conv2d(64, 128, kernel_size=(3, 3), stride=(2, 2), padding=(1, 1), bias=False)\n",
       "      (bn1): BatchNorm2d(128, eps=1e-05, momentum=0.1, affine=True, track_running_stats=True)\n",
       "      (conv2): Conv2d(128, 128, kernel_size=(3, 3), stride=(1, 1), padding=(1, 1), bias=False)\n",
       "      (bn2): BatchNorm2d(128, eps=1e-05, momentum=0.1, affine=True, track_running_stats=True)\n",
       "      (shortcut): Sequential(\n",
       "        (0): Conv2d(64, 128, kernel_size=(1, 1), stride=(2, 2), bias=False)\n",
       "        (1): BatchNorm2d(128, eps=1e-05, momentum=0.1, affine=True, track_running_stats=True)\n",
       "      )\n",
       "    )\n",
       "    (1): BasicBlock(\n",
       "      (conv1): Conv2d(128, 128, kernel_size=(3, 3), stride=(1, 1), padding=(1, 1), bias=False)\n",
       "      (bn1): BatchNorm2d(128, eps=1e-05, momentum=0.1, affine=True, track_running_stats=True)\n",
       "      (conv2): Conv2d(128, 128, kernel_size=(3, 3), stride=(1, 1), padding=(1, 1), bias=False)\n",
       "      (bn2): BatchNorm2d(128, eps=1e-05, momentum=0.1, affine=True, track_running_stats=True)\n",
       "      (shortcut): Sequential()\n",
       "    )\n",
       "  )\n",
       "  (layer4): Sequential(\n",
       "    (0): BasicBlock(\n",
       "      (conv1): Conv2d(128, 256, kernel_size=(3, 3), stride=(2, 2), padding=(1, 1), bias=False)\n",
       "      (bn1): BatchNorm2d(256, eps=1e-05, momentum=0.1, affine=True, track_running_stats=True)\n",
       "      (conv2): Conv2d(256, 256, kernel_size=(3, 3), stride=(1, 1), padding=(1, 1), bias=False)\n",
       "      (bn2): BatchNorm2d(256, eps=1e-05, momentum=0.1, affine=True, track_running_stats=True)\n",
       "      (shortcut): Sequential(\n",
       "        (0): Conv2d(128, 256, kernel_size=(1, 1), stride=(2, 2), bias=False)\n",
       "        (1): BatchNorm2d(256, eps=1e-05, momentum=0.1, affine=True, track_running_stats=True)\n",
       "      )\n",
       "    )\n",
       "    (1): BasicBlock(\n",
       "      (conv1): Conv2d(256, 256, kernel_size=(3, 3), stride=(1, 1), padding=(1, 1), bias=False)\n",
       "      (bn1): BatchNorm2d(256, eps=1e-05, momentum=0.1, affine=True, track_running_stats=True)\n",
       "      (conv2): Conv2d(256, 256, kernel_size=(3, 3), stride=(1, 1), padding=(1, 1), bias=False)\n",
       "      (bn2): BatchNorm2d(256, eps=1e-05, momentum=0.1, affine=True, track_running_stats=True)\n",
       "      (shortcut): Sequential()\n",
       "    )\n",
       "  )\n",
       "  (linear): Linear(in_features=256, out_features=10, bias=True)\n",
       ")"
      ]
     },
     "execution_count": 10,
     "metadata": {},
     "output_type": "execute_result"
    }
   ],
   "source": [
    "# Instantiate ResNet model\n",
    "model = ResNet()\n",
    "model.to(device)  # Move model to the same device as data"
   ]
  },
  {
   "cell_type": "markdown",
   "metadata": {},
   "source": [
    "# Model Summary\n",
    "Total trainable parameters: 2,797,610"
   ]
  },
  {
   "cell_type": "code",
   "execution_count": 11,
   "metadata": {
    "colab": {
     "base_uri": "https://localhost:8080/"
    },
    "id": "-H9FFTt57cuk",
    "outputId": "588b0841-9618-4570-929f-6d81aff3759c"
   },
   "outputs": [
    {
     "name": "stdout",
     "output_type": "stream",
     "text": [
      "----------------------------------------------------------------\n",
      "        Layer (type)               Output Shape         Param #\n",
      "================================================================\n",
      "            Conv2d-1           [-1, 32, 32, 32]             864\n",
      "       BatchNorm2d-2           [-1, 32, 32, 32]              64\n",
      "            Conv2d-3           [-1, 32, 32, 32]           9,216\n",
      "       BatchNorm2d-4           [-1, 32, 32, 32]              64\n",
      "            Conv2d-5           [-1, 32, 32, 32]           9,216\n",
      "       BatchNorm2d-6           [-1, 32, 32, 32]              64\n",
      "        BasicBlock-7           [-1, 32, 32, 32]               0\n",
      "            Conv2d-8           [-1, 32, 32, 32]           9,216\n",
      "       BatchNorm2d-9           [-1, 32, 32, 32]              64\n",
      "           Conv2d-10           [-1, 32, 32, 32]           9,216\n",
      "      BatchNorm2d-11           [-1, 32, 32, 32]              64\n",
      "       BasicBlock-12           [-1, 32, 32, 32]               0\n",
      "           Conv2d-13           [-1, 64, 16, 16]          18,432\n",
      "      BatchNorm2d-14           [-1, 64, 16, 16]             128\n",
      "           Conv2d-15           [-1, 64, 16, 16]          36,864\n",
      "      BatchNorm2d-16           [-1, 64, 16, 16]             128\n",
      "           Conv2d-17           [-1, 64, 16, 16]           2,048\n",
      "      BatchNorm2d-18           [-1, 64, 16, 16]             128\n",
      "       BasicBlock-19           [-1, 64, 16, 16]               0\n",
      "           Conv2d-20           [-1, 64, 16, 16]          36,864\n",
      "      BatchNorm2d-21           [-1, 64, 16, 16]             128\n",
      "           Conv2d-22           [-1, 64, 16, 16]          36,864\n",
      "      BatchNorm2d-23           [-1, 64, 16, 16]             128\n",
      "       BasicBlock-24           [-1, 64, 16, 16]               0\n",
      "           Conv2d-25            [-1, 128, 8, 8]          73,728\n",
      "      BatchNorm2d-26            [-1, 128, 8, 8]             256\n",
      "           Conv2d-27            [-1, 128, 8, 8]         147,456\n",
      "      BatchNorm2d-28            [-1, 128, 8, 8]             256\n",
      "           Conv2d-29            [-1, 128, 8, 8]           8,192\n",
      "      BatchNorm2d-30            [-1, 128, 8, 8]             256\n",
      "       BasicBlock-31            [-1, 128, 8, 8]               0\n",
      "           Conv2d-32            [-1, 128, 8, 8]         147,456\n",
      "      BatchNorm2d-33            [-1, 128, 8, 8]             256\n",
      "           Conv2d-34            [-1, 128, 8, 8]         147,456\n",
      "      BatchNorm2d-35            [-1, 128, 8, 8]             256\n",
      "       BasicBlock-36            [-1, 128, 8, 8]               0\n",
      "           Conv2d-37            [-1, 256, 4, 4]         294,912\n",
      "      BatchNorm2d-38            [-1, 256, 4, 4]             512\n",
      "           Conv2d-39            [-1, 256, 4, 4]         589,824\n",
      "      BatchNorm2d-40            [-1, 256, 4, 4]             512\n",
      "           Conv2d-41            [-1, 256, 4, 4]          32,768\n",
      "      BatchNorm2d-42            [-1, 256, 4, 4]             512\n",
      "       BasicBlock-43            [-1, 256, 4, 4]               0\n",
      "           Conv2d-44            [-1, 256, 4, 4]         589,824\n",
      "      BatchNorm2d-45            [-1, 256, 4, 4]             512\n",
      "           Conv2d-46            [-1, 256, 4, 4]         589,824\n",
      "      BatchNorm2d-47            [-1, 256, 4, 4]             512\n",
      "       BasicBlock-48            [-1, 256, 4, 4]               0\n",
      "           Linear-49                   [-1, 10]           2,570\n",
      "================================================================\n",
      "Total params: 2,797,610\n",
      "Trainable params: 2,797,610\n",
      "Non-trainable params: 0\n",
      "----------------------------------------------------------------\n",
      "Input size (MB): 0.01\n",
      "Forward/backward pass size (MB): 5.63\n",
      "Params size (MB): 10.67\n",
      "Estimated Total Size (MB): 16.31\n",
      "----------------------------------------------------------------\n",
      "None\n"
     ]
    }
   ],
   "source": [
    "# Print model summary\n",
    "print(summary(model, (3, 32, 32)))"
   ]
  },
  {
   "cell_type": "markdown",
   "metadata": {},
   "source": [
    "# Training, Testing, Loss & Accuracy Curves, and Saving the Model\n",
    "Loss Fuction: Cross Entropy Loss <br>\n",
    "Optimizer: Adam, lr = 0.001, weight decay = 1e-4 <br>\n",
    "Scheduler: ReduceLROnPlateau <br> <br>\n",
    "\n",
    "The training loop is executed for 40 epochs, displaying the training and testing loss and accuracy at each epoch. Both training and testing accuracies steadily increase over the epochs, indicating effective training. The loss and accuracy curves are plotted, showing the training and testing loss decreasing while the accuracy increases, which is a positive sign of model learning. <br> <br>\n",
    "\n",
    "Model saved as \"modified_resnet_cifar10_model_40_epochs.pth\""
   ]
  },
  {
   "cell_type": "code",
   "execution_count": 12,
   "metadata": {
    "colab": {
     "base_uri": "https://localhost:8080/"
    },
    "id": "8QaP3zW99Hy9",
    "outputId": "6d0da7f9-416b-49dc-e10b-e7aba262bff9"
   },
   "outputs": [
    {
     "name": "stderr",
     "output_type": "stream",
     "text": [
      "/usr/local/lib/python3.10/dist-packages/torch/optim/lr_scheduler.py:28: UserWarning: The verbose parameter is deprecated. Please use get_last_lr() to access the learning rate.\n",
      "  warnings.warn(\"The verbose parameter is deprecated. Please use get_last_lr() \"\n"
     ]
    }
   ],
   "source": [
    "# Define loss function, optimizer, and learning rate scheduler\n",
    "criterion = nn.CrossEntropyLoss()\n",
    "# optimizer = optim.SGD(model.parameters(), lr=0.1, momentum=0.9, weight_decay=5e-4)\n",
    "optimizer = optim.Adam(model.parameters(), lr=0.001, weight_decay=1e-4)\n",
    "# scheduler = optim.lr_scheduler.MultiStepLR(optimizer, milestones=[150, 250], gamma=0.1)\n",
    "scheduler = optim.lr_scheduler.ReduceLROnPlateau(optimizer, mode='min', factor=0.1, patience=5, verbose=True)"
   ]
  },
  {
   "cell_type": "code",
   "execution_count": 13,
   "metadata": {
    "colab": {
     "base_uri": "https://localhost:8080/",
     "height": 1000
    },
    "id": "e4B0A70s9J6Z",
    "outputId": "0622cefc-d8fa-47bc-d213-096569e161ad"
   },
   "outputs": [
    {
     "name": "stdout",
     "output_type": "stream",
     "text": [
      "Epoch [1/40], Train Loss: 1.5893, Train Acc: 0.4095, Test Loss: 1.3130, Test Acc: 0.5280\n",
      "Epoch [2/40], Train Loss: 1.1762, Train Acc: 0.5769, Test Loss: 0.9956, Test Acc: 0.6473\n",
      "Epoch [3/40], Train Loss: 0.9832, Train Acc: 0.6525, Test Loss: 0.8607, Test Acc: 0.7076\n",
      "Epoch [4/40], Train Loss: 0.8567, Train Acc: 0.7008, Test Loss: 0.7129, Test Acc: 0.7579\n",
      "Epoch [5/40], Train Loss: 0.7845, Train Acc: 0.7255, Test Loss: 0.7668, Test Acc: 0.7534\n",
      "Epoch [6/40], Train Loss: 0.7191, Train Acc: 0.7470, Test Loss: 0.6701, Test Acc: 0.7728\n",
      "Epoch [7/40], Train Loss: 0.6721, Train Acc: 0.7654, Test Loss: 0.6071, Test Acc: 0.7881\n",
      "Epoch [8/40], Train Loss: 0.6346, Train Acc: 0.7789, Test Loss: 0.7360, Test Acc: 0.7523\n",
      "Epoch [9/40], Train Loss: 0.6058, Train Acc: 0.7899, Test Loss: 0.6675, Test Acc: 0.7824\n",
      "Epoch [10/40], Train Loss: 0.5779, Train Acc: 0.7993, Test Loss: 0.5392, Test Acc: 0.8165\n",
      "Epoch [11/40], Train Loss: 0.5511, Train Acc: 0.8087, Test Loss: 0.5028, Test Acc: 0.8276\n",
      "Epoch [12/40], Train Loss: 0.5309, Train Acc: 0.8143, Test Loss: 0.4877, Test Acc: 0.8377\n",
      "Epoch [13/40], Train Loss: 0.5129, Train Acc: 0.8216, Test Loss: 0.4978, Test Acc: 0.8347\n",
      "Epoch [14/40], Train Loss: 0.4946, Train Acc: 0.8291, Test Loss: 0.4505, Test Acc: 0.8426\n",
      "Epoch [15/40], Train Loss: 0.4789, Train Acc: 0.8351, Test Loss: 0.4537, Test Acc: 0.8492\n",
      "Epoch [16/40], Train Loss: 0.4694, Train Acc: 0.8386, Test Loss: 0.4388, Test Acc: 0.8545\n",
      "Epoch [17/40], Train Loss: 0.4576, Train Acc: 0.8414, Test Loss: 0.4199, Test Acc: 0.8610\n",
      "Epoch [18/40], Train Loss: 0.4464, Train Acc: 0.8451, Test Loss: 0.4537, Test Acc: 0.8487\n",
      "Epoch [19/40], Train Loss: 0.4320, Train Acc: 0.8493, Test Loss: 0.3988, Test Acc: 0.8702\n",
      "Epoch [20/40], Train Loss: 0.4227, Train Acc: 0.8544, Test Loss: 0.4120, Test Acc: 0.8619\n",
      "Epoch [21/40], Train Loss: 0.4098, Train Acc: 0.8568, Test Loss: 0.3753, Test Acc: 0.8741\n",
      "Epoch [22/40], Train Loss: 0.4025, Train Acc: 0.8608, Test Loss: 0.4051, Test Acc: 0.8668\n",
      "Epoch [23/40], Train Loss: 0.3968, Train Acc: 0.8638, Test Loss: 0.3596, Test Acc: 0.8801\n",
      "Epoch [24/40], Train Loss: 0.3885, Train Acc: 0.8649, Test Loss: 0.3805, Test Acc: 0.8751\n",
      "Epoch [25/40], Train Loss: 0.3769, Train Acc: 0.8702, Test Loss: 0.4092, Test Acc: 0.8661\n",
      "Epoch [26/40], Train Loss: 0.3752, Train Acc: 0.8697, Test Loss: 0.3773, Test Acc: 0.8778\n",
      "Epoch [27/40], Train Loss: 0.3669, Train Acc: 0.8742, Test Loss: 0.3761, Test Acc: 0.8785\n",
      "Epoch [28/40], Train Loss: 0.3606, Train Acc: 0.8759, Test Loss: 0.3900, Test Acc: 0.8746\n",
      "Epoch [29/40], Train Loss: 0.3542, Train Acc: 0.8767, Test Loss: 0.3660, Test Acc: 0.8782\n",
      "Epoch [30/40], Train Loss: 0.2812, Train Acc: 0.9032, Test Loss: 0.2726, Test Acc: 0.9105\n",
      "Epoch [31/40], Train Loss: 0.2509, Train Acc: 0.9130, Test Loss: 0.2732, Test Acc: 0.9137\n",
      "Epoch [32/40], Train Loss: 0.2404, Train Acc: 0.9165, Test Loss: 0.2706, Test Acc: 0.9120\n",
      "Epoch [33/40], Train Loss: 0.2333, Train Acc: 0.9192, Test Loss: 0.2655, Test Acc: 0.9143\n",
      "Epoch [34/40], Train Loss: 0.2206, Train Acc: 0.9220, Test Loss: 0.2735, Test Acc: 0.9151\n",
      "Epoch [35/40], Train Loss: 0.2169, Train Acc: 0.9246, Test Loss: 0.2693, Test Acc: 0.9147\n",
      "Epoch [36/40], Train Loss: 0.2194, Train Acc: 0.9242, Test Loss: 0.2707, Test Acc: 0.9145\n",
      "Epoch [37/40], Train Loss: 0.2077, Train Acc: 0.9271, Test Loss: 0.2727, Test Acc: 0.9151\n",
      "Epoch [38/40], Train Loss: 0.2034, Train Acc: 0.9279, Test Loss: 0.2742, Test Acc: 0.9132\n",
      "Epoch [39/40], Train Loss: 0.2037, Train Acc: 0.9286, Test Loss: 0.2691, Test Acc: 0.9166\n",
      "Epoch [40/40], Train Loss: 0.1905, Train Acc: 0.9330, Test Loss: 0.2672, Test Acc: 0.9148\n"
     ]
    },
    {
     "data": {
      "image/png": "[encoded data removed]",
      "text/plain": [
       "<Figure size 1000x500 with 1 Axes>"
      ]
     },
     "metadata": {},
     "output_type": "display_data"
    },
    {
     "data": {
      "image/png": "[encoded data removed]",
      "text/plain": [
       "<Figure size 1000x500 with 1 Axes>"
      ]
     },
     "metadata": {},
     "output_type": "display_data"
    },
    {
     "name": "stdout",
     "output_type": "stream",
     "text": [
      "Final Test Accuracy: 0.9148\n",
      "Model saved successfully!\n",
      "Accuracy on the dataset: 91.48%\n"
     ]
    }
   ],
   "source": [
    "# Training the model\n",
    "train_model(model, criterion, optimizer, scheduler, num_epochs=40)\n",
    "\n",
    "# Save the trained model\n",
    "torch.save(model.state_dict(), 'modified_resnet_cifar10_model_40_epochs.pth')\n",
    "print('Model saved successfully!')\n",
    "\n",
    "def evaluate_model(model, dataloader):\n",
    "    model.eval()\n",
    "    correct = 0\n",
    "    total = 0\n",
    "    with torch.no_grad():\n",
    "        for data in dataloader:\n",
    "            inputs, labels = data[0].to(device), data[1].to(device)\n",
    "            outputs = model(inputs)\n",
    "            _, predicted = torch.max(outputs, 1)\n",
    "            total += labels.size(0)\n",
    "            correct += (predicted == labels).sum().item()\n",
    "    accuracy = correct / total\n",
    "    print(f'Accuracy on the dataset: {100 * accuracy:.2f}%')\n",
    "\n",
    "# Evaluate the model on the test dataset\n",
    "evaluate_model(model, testloader)"
   ]
  },
  {
   "cell_type": "markdown",
   "metadata": {},
   "source": [
    "# Performance of the Model\n",
    "The model achieves a final test accuracy of 91.48%, demonstrating its effectiveness in classifying the CIFAR-10 dataset."
   ]
  },
  {
   "cell_type": "code",
   "execution_count": 14,
   "metadata": {
    "colab": {
     "base_uri": "https://localhost:8080/",
     "height": 120
    },
    "id": "2WPsUZJ-P3lT",
    "outputId": "93be2e3a-6f7b-4d34-f8d0-53083a4ecd8d"
   },
   "outputs": [
    {
     "data": {
      "application/vnd.google.colaboratory.intrinsic+json": {
       "type": "string"
      },
      "text/plain": [
       "\"\\nmodel = ResNet18()\\nmodel.to(device)  # Move model to the same device as data\\nmodel.load_state_dict(torch.load('modified_resnet_cifar10_model_40_epochs.pth'))\\n\\ncriterion = nn.CrossEntropyLoss()\\noptimizer = optim.Adam(model.parameters(), lr=0.001, weight_decay=1e-4)\\nscheduler = optim.lr_scheduler.ReduceLROnPlateau(optimizer, mode='min', factor=0.1, patience=5, verbose=True)\\n\\n# Training the model for additional 5 epochs\\ntrain_model(model, criterion, optimizer, scheduler, num_epochs=5)\\n\""
      ]
     },
     "execution_count": 14,
     "metadata": {},
     "output_type": "execute_result"
    }
   ],
   "source": [
    "# Instantiate and load the model\n",
    "'''\n",
    "model = ResNet()\n",
    "model.to(device)  # Move model to the same device as data\n",
    "model.load_state_dict(torch.load('modified_resnet_cifar10_model_40_epochs.pth'))\n",
    "\n",
    "criterion = nn.CrossEntropyLoss()\n",
    "optimizer = optim.Adam(model.parameters(), lr=0.001, weight_decay=1e-4)\n",
    "scheduler = optim.lr_scheduler.ReduceLROnPlateau(optimizer, mode='min', factor=0.1, patience=5, verbose=True)\n",
    "\n",
    "# Training the model for additional 5 epochs\n",
    "train_model(model, criterion, optimizer, scheduler, num_epochs=5)\n",
    "'''"
   ]
  }
 ],
 "metadata": {
  "accelerator": "GPU",
  "colab": {
   "gpuType": "T4",
   "provenance": []
  },
  "kernelspec": {
   "display_name": "Python 3 (ipykernel)",
   "language": "python",
   "name": "python3"
  },
  "language_info": {
   "codemirror_mode": {
    "name": "ipython",
    "version": 3
   },
   "file_extension": ".py",
   "mimetype": "text/x-python",
   "name": "python",
   "nbconvert_exporter": "python",
   "pygments_lexer": "ipython3",
   "version": "3.9.6"
  }
 },
 "nbformat": 4,
 "nbformat_minor": 1
}
